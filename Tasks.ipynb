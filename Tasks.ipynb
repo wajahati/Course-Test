{
  "nbformat": 4,
  "nbformat_minor": 0,
  "metadata": {
    "colab": {
      "provenance": [],
      "authorship_tag": "ABX9TyMC3T+cmS0J9FBaML61/tnY",
      "include_colab_link": true
    },
    "kernelspec": {
      "name": "python3",
      "display_name": "Python 3"
    },
    "language_info": {
      "name": "python"
    }
  },
  "cells": [
    {
      "cell_type": "markdown",
      "metadata": {
        "id": "view-in-github",
        "colab_type": "text"
      },
      "source": [
        "<a href=\"https://colab.research.google.com/github/wajahati/Course-Test/blob/main/Tasks.ipynb\" target=\"_parent\"><img src=\"https://colab.research.google.com/assets/colab-badge.svg\" alt=\"Open In Colab\"/></a>"
      ]
    },
    {
      "cell_type": "code",
      "execution_count": null,
      "metadata": {
        "id": "XaPXmh7e9TgU"
      },
      "outputs": [],
      "source": [
        "adj_matx =   [[0, 1, 0, 1, 0, 0],\n",
        "             [0, 0, 1, 0, 0, 0],\n",
        "             [1, 0, 0, 0, 0, 0],\n",
        "             [0, 0, 0, 0, 1, 0],\n",
        "             [0, 0, 0, 1, 0, 0],\n",
        "             [0, 0, 0, 0, 0, 0]]"
      ]
    },
    {
      "cell_type": "code",
      "source": [
        "def mat_to_list(adj_mat):\n",
        "    length = len(adj_mat)\n",
        "    adj_list = []\n",
        "\n",
        "    for edges_to in adj_mat:\n",
        "      neighbours = []\n",
        "\n",
        "      for node in range(length):\n",
        "        if edges_to[node]:\n",
        "          neighbours.append(node)\n",
        "\n",
        "      adj_list.append(neighbours)\n",
        "\n",
        "    return adj_list"
      ],
      "metadata": {
        "id": "ooeBpBOp9kI7"
      },
      "execution_count": null,
      "outputs": []
    },
    {
      "cell_type": "code",
      "source": [
        "adj_list = mat_to_list(adj_matx)\n",
        "adj_list"
      ],
      "metadata": {
        "colab": {
          "base_uri": "https://localhost:8080/"
        },
        "id": "N9JGoTrk-efH",
        "outputId": "4d656f75-8a0b-4286-9832-e111e6543160"
      },
      "execution_count": null,
      "outputs": [
        {
          "output_type": "execute_result",
          "data": {
            "text/plain": [
              "[[1, 3], [2], [0], [4], [3], []]"
            ]
          },
          "metadata": {},
          "execution_count": 21
        }
      ]
    },
    {
      "cell_type": "code",
      "source": [
        "def reachable(adj_list, start_node, visited = None):\n",
        "    \"\"\"\n",
        "    Parameters:\n",
        "    -----------\n",
        "    adj_list : the adjacency list of the graph\n",
        "    start_node: the index of the start node\n",
        "    visited: keep track of the visited nodes to avoid looping\n",
        "\n",
        "    Returns:\n",
        "    --------\n",
        "    reachable: set(int) the set of nodes reachable from start_node\n",
        "    \"\"\"\n",
        "\n",
        "    if visited is None:\n",
        "      visited = {-1}\n",
        "\n",
        "    if start_node in visited:\n",
        "      return {}\n",
        "\n",
        "    neighbours = adj_list[start_node]\n",
        "\n",
        "    reachable_nodes = {start_node}\n",
        "    visited.add(start_node)\n",
        "\n",
        "    for i in neighbours:\n",
        "      reachable_nodes.update((reachable(adj_list, i, visited)))\n",
        "    return reachable_nodes"
      ],
      "metadata": {
        "id": "X1stfP61HXv7"
      },
      "execution_count": null,
      "outputs": []
    },
    {
      "cell_type": "code",
      "source": [
        "reachable(adj_list, 0)"
      ],
      "metadata": {
        "colab": {
          "base_uri": "https://localhost:8080/"
        },
        "id": "zjx5mNhtRz4e",
        "outputId": "dc7b8adc-1d24-4dd3-a39a-f12e4ac20688"
      },
      "execution_count": null,
      "outputs": [
        {
          "output_type": "execute_result",
          "data": {
            "text/plain": [
              "{0, 1, 2, 3, 4}"
            ]
          },
          "metadata": {},
          "execution_count": 23
        }
      ]
    },
    {
      "cell_type": "code",
      "source": [
        "# CASE FOR TASK 1\n",
        "def adj_to_list():\n",
        "\n",
        "    # Test case 1:\n",
        "    adj_mat_1 = [[0, 1, 0],\n",
        "                 [0, 0, 1],\n",
        "                 [1, 0, 0]]\n",
        "    assert mat_to_list(adj_mat_1) == [[1], [2], [0]]\n",
        "\n",
        "    # Test case 2:\n",
        "    adj_mat_2 = [[0, 1, 0, 1],\n",
        "                 [1, 0, 1, 0],\n",
        "                 [0, 1, 0, 1],\n",
        "                 [1, 0, 1, 0]]\n",
        "    result_2 = mat_to_list(adj_mat_2)\n",
        "    assert result_2 == [[1, 3], [0, 2], [1, 3], [0, 2]]\n",
        "\n",
        "    # Test case 3:\n",
        "    adj_mat_3 = [[0, 1, 0, 0],\n",
        "                 [1, 0, 0, 0],\n",
        "                 [0, 0, 0, 1],\n",
        "                 [0, 0, 1, 0]]\n",
        "    assert mat_to_list(adj_mat_3) == [[1], [0], [3], [2]]\n",
        "\n",
        "    # Test case 4:\n",
        "    adj_mat_4 = [[0, 1, 1, 0, 0],\n",
        "                 [1, 0, 1, 1, 0],\n",
        "                 [1, 1, 0, 0, 1],\n",
        "                 [0, 1, 0, 0, 0],\n",
        "                 [0, 0, 1, 0, 0]]\n",
        "    assert mat_to_list(adj_mat_4) == [[1, 2], [0, 2, 3], [0, 1, 4], [1], [2]]\n",
        "\n",
        "    print(\"All test cases pass for Task1 \")\n",
        "\n",
        "adj_to_list()\n"
      ],
      "metadata": {
        "colab": {
          "base_uri": "https://localhost:8080/"
        },
        "id": "RUQ_crid55oi",
        "outputId": "babc4a18-974d-4457-a4ca-0f819b2fea59"
      },
      "execution_count": null,
      "outputs": [
        {
          "output_type": "stream",
          "name": "stdout",
          "text": [
            "All test cases pass for Task1 \n"
          ]
        }
      ]
    },
    {
      "cell_type": "code",
      "source": [
        "# CASE FOR TASK 2\n",
        "def test_reachable():\n",
        "\n",
        "    # Test case 1:\n",
        "    adj_list_1 = [[1], [2], [0]]\n",
        "    assert reachable(adj_list_1, 0) == {0, 1, 2}\n",
        "\n",
        "    # Test case 2:\n",
        "    adj_list_2 = [[1, 3], [0, 2], [1, 3], [0, 2]]\n",
        "    assert reachable(adj_list_2, 0) == {0, 1, 2, 3}\n",
        "\n",
        "    # Test case 3:\n",
        "    adj_list_3 = [[1], [0], [3], [2]]\n",
        "    assert reachable(adj_list_3, 0) == {0, 1}\n",
        "\n",
        "    # Test case 4:\n",
        "    adj_list_4 = [[1, 2], [0, 2, 3], [0, 1, 4], [1], [2]]\n",
        "    assert reachable(adj_list_4, 0) == {0, 1, 2, 3, 4}\n",
        "\n",
        "    print(\"All test cases pass for Task2\")\n",
        "\n",
        "test_reachable()\n"
      ],
      "metadata": {
        "colab": {
          "base_uri": "https://localhost:8080/"
        },
        "id": "q-t_MLkB59Bn",
        "outputId": "c487b04d-1c6b-45a6-e545-4800475ee58d"
      },
      "execution_count": null,
      "outputs": [
        {
          "output_type": "stream",
          "name": "stdout",
          "text": [
            "All test cases pass for Task2\n"
          ]
        }
      ]
    },
    {
      "cell_type": "code",
      "source": [],
      "metadata": {
        "id": "gj9JSKFg6n3s"
      },
      "execution_count": null,
      "outputs": []
    }
  ]
}